{
  "nbformat": 4,
  "nbformat_minor": 0,
  "metadata": {
    "colab": {
      "provenance": [],
      "authorship_tag": "ABX9TyNzm5IGT6P3aL8a0cylklM5",
      "include_colab_link": true
    },
    "kernelspec": {
      "name": "python3",
      "display_name": "Python 3"
    },
    "language_info": {
      "name": "python"
    }
  },
  "cells": [
    {
      "cell_type": "markdown",
      "metadata": {
        "id": "view-in-github",
        "colab_type": "text"
      },
      "source": [
        "<a href=\"https://colab.research.google.com/github/deepika6667/python-files/blob/main/task_2a%2C2b%2C2c.ipynb\" target=\"_parent\"><img src=\"https://colab.research.google.com/assets/colab-badge.svg\" alt=\"Open In Colab\"/></a>"
      ]
    },
    {
      "cell_type": "code",
      "execution_count": 1,
      "metadata": {
        "colab": {
          "base_uri": "https://localhost:8080/"
        },
        "id": "ruirvpd3rwZL",
        "outputId": "2bf94c2b-30b1-4b50-9156-23a768c4eb7e"
      },
      "outputs": [
        {
          "output_type": "stream",
          "name": "stdout",
          "text": [
            "Enter the score:60\n",
            "The Grade is D\n",
            "The first 10 natural numbers are:\n",
            "1\n",
            "2\n",
            "3\n",
            "4\n",
            "5\n",
            "6\n",
            "7\n",
            "8\n",
            "9\n",
            "10\n",
            "Enter the Number:688\n",
            "The number of digits in  688 is : 3\n"
          ]
        }
      ],
      "source": [
        "score =int(input(\"Enter the score:\"))\n",
        "if score>=90:\n",
        "    print(\"The Grade is A\")\n",
        "elif (score <=89 and score>=80):\n",
        "    print(\"The Grade is B\")\n",
        "elif(score <=79 and score >=70):\n",
        "    print(\"The Grade is C\")\n",
        "elif( score <=69 and score >=60):\n",
        "    print(\"The Grade is D\")\n",
        "else:\n",
        "    print(\"The Grade is F\")\n",
        "\n",
        "\n",
        "# Displaying the first 10 natural numbers\n",
        "print(\"The first 10 natural numbers are:\")\n",
        "for i in range(1, 11):  # Loop from 1 to 10\n",
        "    print(i)\n",
        "\n",
        "\n",
        "digit=int(input(\"Enter the Number:\"))\n",
        "string=str(digit) #since integer doesn't have len()\n",
        "count=len(string)\n",
        "print(\"The number of digits in \",digit,\"is :\",count)\n"
      ]
    }
  ]
}