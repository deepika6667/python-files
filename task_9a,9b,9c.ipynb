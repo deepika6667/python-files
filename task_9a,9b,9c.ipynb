{
  "nbformat": 4,
  "nbformat_minor": 0,
  "metadata": {
    "colab": {
      "provenance": [],
      "authorship_tag": "ABX9TyOH1+zfzFGmn7d2bMdrHsD0",
      "include_colab_link": true
    },
    "kernelspec": {
      "name": "python3",
      "display_name": "Python 3"
    },
    "language_info": {
      "name": "python"
    }
  },
  "cells": [
    {
      "cell_type": "markdown",
      "metadata": {
        "id": "view-in-github",
        "colab_type": "text"
      },
      "source": [
        "<a href=\"https://colab.research.google.com/github/deepika6667/python-files/blob/main/task_9a%2C9b%2C9c.ipynb\" target=\"_parent\"><img src=\"https://colab.research.google.com/assets/colab-badge.svg\" alt=\"Open In Colab\"/></a>"
      ]
    },
    {
      "cell_type": "code",
      "execution_count": 5,
      "metadata": {
        "colab": {
          "base_uri": "https://localhost:8080/"
        },
        "id": "ruirvpd3rwZL",
        "outputId": "8d3dbd83-6016-4bec-e9ae-54c96a163831"
      },
      "outputs": [
        {
          "output_type": "stream",
          "name": "stdout",
          "text": [
            "Enter the starting number: 10\n",
            "Enter the ending number: 80\n",
            "Enter the step value: 75\n",
            "10\n",
            "0\n",
            "1\n",
            "2\n",
            "HI, I AM CREATED BY A FUNCTION PASSED AS AN ARGUMENT.\n",
            "hi, i am created by a function passed as an argument.\n"
          ]
        }
      ],
      "source": [
        "# Initialize the list of grades\n",
        "grades = [85, 90, 78, 92, 88]\n",
        "\n",
        "# Display the grades list\n",
        "print(\"Grades List:\", grades)\n",
        "\n",
        "# Prompt the user to enter the index of the grade they want to view\n",
        "try:\n",
        "    index = int(input(\"Enter the index of the grade you want to view: \"))\n",
        "    # Attempt to display the grade at the specified index\n",
        "    print(f\"The grade at index {index} is: {grades[index]}\")\n",
        "except IndexError:\n",
        "    # Handle the case where the index is out of range\n",
        "    print(\"Invalid index. Please enter a valid index.\")\n",
        "except ValueError:\n",
        "    # Handle the case where the input is not an integer\n",
        "    print(\"Invalid input. Please enter a numerical index.\")\n",
        "\n",
        "\n",
        "# Function to perform division\n",
        "def divide_numbers():\n",
        "    try:\n",
        "        # Prompt the user to enter the numerator\n",
        "        numerator = float(input(\"Enter the numerator: \"))\n",
        "        # Prompt the user to enter the denominator\n",
        "        denominator = float(input(\"Enter the denominator: \"))\n",
        "        # Attempt to perform division\n",
        "        result = numerator / denominator\n",
        "        print(f\"Result: {result}\")\n",
        "    except ZeroDivisionError:\n",
        "        # Handle division by zero error\n",
        "        print(\"Error: Division by zero is not allowed.\")\n",
        "    except ValueError:\n",
        "        # Handle invalid input that is not a number\n",
        "        print(\"Error: Please enter valid numbers.\")\n",
        "\n",
        "# Call the function to execute the division operation\n",
        "divide_numbers()\n",
        "\n",
        "\n",
        "\n",
        "# define Python user-defined exceptions\n",
        "class InvalidAgeException(Exception):\n",
        "    \"Raised when the input value is less than 18\"\n",
        "    pass\n",
        "# you need to guess this number\n",
        "number = 18\n",
        "\n",
        "try:\n",
        "    input_num = int(input(\"Enter a number: \"))\n",
        "    if input_num < number:\n",
        "        raise InvalidAgeException\n",
        "    else:\n",
        "        print(\"Eligible to Vote\")\n",
        "\n",
        "except InvalidAgeException:\n",
        "    print(\"Exception occurred: Invalid Age\")\n",
        "\n",
        "\n",
        "\n",
        "\n",
        "\n",
        "\n",
        "\n",
        "\n"
      ]
    }
  ]
}