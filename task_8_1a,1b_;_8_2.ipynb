{
  "nbformat": 4,
  "nbformat_minor": 0,
  "metadata": {
    "colab": {
      "provenance": [],
      "authorship_tag": "ABX9TyP4c1U5of6vP+rgcU57zEUu",
      "include_colab_link": true
    },
    "kernelspec": {
      "name": "python3",
      "display_name": "Python 3"
    },
    "language_info": {
      "name": "python"
    }
  },
  "cells": [
    {
      "cell_type": "markdown",
      "metadata": {
        "id": "view-in-github",
        "colab_type": "text"
      },
      "source": [
        "<a href=\"https://colab.research.google.com/github/deepika6667/python-files/blob/main/task_8_1a%2C1b_%3B_8_2.ipynb\" target=\"_parent\"><img src=\"https://colab.research.google.com/assets/colab-badge.svg\" alt=\"Open In Colab\"/></a>"
      ]
    },
    {
      "cell_type": "code",
      "execution_count": 5,
      "metadata": {
        "colab": {
          "base_uri": "https://localhost:8080/"
        },
        "id": "ruirvpd3rwZL",
        "outputId": "8d3dbd83-6016-4bec-e9ae-54c96a163831"
      },
      "outputs": [
        {
          "output_type": "stream",
          "name": "stdout",
          "text": [
            "Enter the starting number: 10\n",
            "Enter the ending number: 80\n",
            "Enter the step value: 75\n",
            "10\n",
            "0\n",
            "1\n",
            "2\n",
            "HI, I AM CREATED BY A FUNCTION PASSED AS AN ARGUMENT.\n",
            "hi, i am created by a function passed as an argument.\n"
          ]
        }
      ],
      "source": [
        "def number_sequence(start, end, step=1):\n",
        "    current = start\n",
        "    while current <= end:\n",
        "        yield current\n",
        "        current += step\n",
        "start = int(input(\"Enter the starting number: \"))\n",
        "end = int(input(\"Enter the ending number: \"))\n",
        "step = int(input(\"Enter the step value: \"))\n",
        "# Create the generator\n",
        "sequence_generator = number_sequence(start, end, step)\n",
        "# Print the generated sequence of numbers\n",
        "for number in sequence_generator:\n",
        "    print(number)\n",
        "\n",
        "\n",
        "def my_generator(n):\n",
        "    # initialize counter\n",
        "    value = 0\n",
        "    # loop until counter is less than n\n",
        "    while value < n:\n",
        "        # produce the current value of the counter\n",
        "        yield value\n",
        "        # increment the counter\n",
        "        value += 1\n",
        "# iterate over the generator object produced by my_generator\n",
        "for value in my_generator(3):\n",
        "    # print each value produced by generator\n",
        "    print(value)\n",
        "\n",
        "\n",
        "def uppercase_decorator(func):\n",
        "    def wrapper(text):\n",
        "        return func(text).upper()\n",
        "    return wrapper\n",
        "\n",
        "def lowercase_decorator(func):\n",
        "    def wrapper(text):\n",
        "        return func(text).lower()\n",
        "    return wrapper\n",
        "\n",
        "@uppercase_decorator\n",
        "def shout(text):\n",
        "    return text\n",
        "\n",
        "@lowercase_decorator\n",
        "def whisper(text):\n",
        "    return text\n",
        "\n",
        "def greet(func):\n",
        "    greeting = func(\"Hi, I am created by a function passed as an argument.\")\n",
        "    print(greeting)\n",
        "\n",
        "greet(shout)\n",
        "greet(whisper)\n",
        "\n",
        "\n",
        "\n",
        "\n",
        "\n"
      ]
    }
  ]
}